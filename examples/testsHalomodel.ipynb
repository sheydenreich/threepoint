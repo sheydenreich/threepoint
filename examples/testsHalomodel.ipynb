{
 "cells": [
  {
   "cell_type": "code",
   "execution_count": null,
   "metadata": {},
   "outputs": [],
   "source": []
  },
  {
   "cell_type": "markdown",
   "metadata": {},
   "source": [
    "# Tests of halomodel by comparison with CCL"
   ]
  },
  {
   "cell_type": "markdown",
   "metadata": {},
   "source": []
  },
  {
   "cell_type": "code",
   "execution_count": 13,
   "metadata": {},
   "outputs": [],
   "source": [
    "import pyccl as ccl\n",
    "import numpy as np\n",
    "import matplotlib.pyplot as plt"
   ]
  },
  {
   "cell_type": "code",
   "execution_count": 14,
   "metadata": {},
   "outputs": [],
   "source": [
    "# Cosmology setting (SLICS like)\n",
    "h=0.6898\n",
    "cosmo=ccl.Cosmology(Omega_c=0.295-0.0473, Omega_b=0.0473, h=h, n_s=0.969, sigma8=0.826)"
   ]
  },
  {
   "cell_type": "code",
   "execution_count": 15,
   "metadata": {},
   "outputs": [],
   "source": [
    "# Set Mass Def and concentration\n",
    "hmd_200m=ccl.halos.MassDef200m()\n",
    "cM=ccl.halos.ConcentrationDuffy08(hmd_200m)"
   ]
  },
  {
   "cell_type": "code",
   "execution_count": 16,
   "metadata": {},
   "outputs": [],
   "source": [
    "# The Tinker 2010 halo bias\n",
    "bM = ccl.halos.HaloBiasSheth01(cosmo)"
   ]
  },
  {
   "cell_type": "code",
   "execution_count": 17,
   "metadata": {},
   "outputs": [
    {
     "data": {
      "text/plain": [
       "array([1.00000000e+12, 1.27427499e+12, 1.62377674e+12, 2.06913808e+12,\n",
       "       2.63665090e+12, 3.35981829e+12, 4.28133240e+12, 5.45559478e+12,\n",
       "       6.95192796e+12, 8.85866790e+12, 1.12883789e+13, 1.43844989e+13,\n",
       "       1.83298071e+13, 2.33572147e+13, 2.97635144e+13, 3.79269019e+13,\n",
       "       4.83293024e+13, 6.15848211e+13, 7.84759970e+13, 1.00000000e+14])"
      ]
     },
     "execution_count": 17,
     "metadata": {},
     "output_type": "execute_result"
    }
   ],
   "source": [
    "ms=np.geomspace(1e12, 1e14, 20)\n",
    "ms"
   ]
  },
  {
   "cell_type": "code",
   "execution_count": 18,
   "metadata": {},
   "outputs": [],
   "source": [
    "bM_ccl=bM.get_halo_bias(cosmo, ms, 1)"
   ]
  },
  {
   "cell_type": "code",
   "execution_count": 21,
   "metadata": {},
   "outputs": [],
   "source": [
    "dat_mycode=np.loadtxt(\"halobias\", skiprows=1)"
   ]
  },
  {
   "cell_type": "code",
   "execution_count": 22,
   "metadata": {},
   "outputs": [
    {
     "data": {
      "text/plain": [
       "[<matplotlib.lines.Line2D at 0x7f485a31b910>]"
      ]
     },
     "execution_count": 22,
     "metadata": {},
     "output_type": "execute_result"
    },
    {
     "data": {
      "image/png": "[encoded data removed]",
      "text/plain": [
       "<Figure size 432x288 with 1 Axes>"
      ]
     },
     "metadata": {
      "needs_background": "light"
     },
     "output_type": "display_data"
    }
   ],
   "source": [
    "plt.plot(ms, bM_ccl)\n",
    "plt.plot(dat_mycode[:,0], dat_mycode[:,1])\n"
   ]
  },
  {
   "cell_type": "code",
   "execution_count": null,
   "metadata": {},
   "outputs": [],
   "source": []
  }
 ],
 "metadata": {
  "interpreter": {
   "hash": "0e37524af6d812a8cc11f6db2bc0d8549926bf4fedcd3b230ba0c7bff4fc0d13"
  },
  "kernelspec": {
   "display_name": "Python 3.8.5 64-bit ('base': conda)",
   "name": "python3"
  },
  "language_info": {
   "codemirror_mode": {
    "name": "ipython",
    "version": 3
   },
   "file_extension": ".py",
   "mimetype": "text/x-python",
   "name": "python",
   "nbconvert_exporter": "python",
   "pygments_lexer": "ipython3",
   "version": "3.8.5"
  },
  "orig_nbformat": 4
 },
 "nbformat": 4,
 "nbformat_minor": 2
}

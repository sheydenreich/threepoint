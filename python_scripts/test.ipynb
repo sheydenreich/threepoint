{
 "cells": [
  {
   "cell_type": "code",
   "execution_count": 2,
   "metadata": {},
   "outputs": [],
   "source": [
    "import numpy as np\n",
    "import matplotlib.pyplot as plt\n",
    "from matplotlib.colors import LogNorm\n",
    "from astropy.io import fits"
   ]
  },
  {
   "cell_type": "code",
   "execution_count": 2,
   "metadata": {},
   "outputs": [],
   "source": [
    "data=fits.open(\"/home/laila/Downloads/11270.fits\")"
   ]
  },
  {
   "cell_type": "code",
   "execution_count": 4,
   "metadata": {},
   "outputs": [
    {
     "name": "stdout",
     "output_type": "stream",
     "text": [
      "Filename: /home/laila/Downloads/11270.fits\n",
      "No.    Name      Ver    Type      Cards   Dimensions   Format\n",
      "  0  PRIMARY       1 PrimaryHDU       4   ()      \n",
      "  1                1 BinTableHDU     50   1938943R x 6C   [D, D, E, E, D, D]   \n"
     ]
    }
   ],
   "source": [
    "data.info()"
   ]
  },
  {
   "cell_type": "code",
   "execution_count": 33,
   "metadata": {},
   "outputs": [
    {
     "name": "stdout",
     "output_type": "stream",
     "text": [
      "0 0 0 0 0 0\n",
      "0 0 0 0 0 1\n",
      "0 0 0 0 0 2\n",
      "0 0 0 0 0 3\n",
      "0 0 0 0 1 1\n",
      "0 0 0 0 1 2\n",
      "0 0 0 0 1 3\n",
      "0 0 0 0 2 2\n",
      "0 0 0 0 2 3\n",
      "0 0 0 0 3 3\n",
      "0 0 0 1 1 1\n",
      "0 0 0 1 1 2\n",
      "0 0 0 1 1 3\n",
      "0 0 0 1 2 2\n",
      "0 0 0 1 2 3\n",
      "0 0 0 1 3 3\n",
      "0 0 0 2 2 2\n",
      "0 0 0 2 2 3\n",
      "0 0 0 2 3 3\n",
      "0 0 0 3 3 3\n",
      "0 0 1 0 0 0\n",
      "0 0 1 0 0 1\n",
      "0 0 1 0 0 2\n",
      "0 0 1 0 0 3\n",
      "0 0 1 0 1 1\n",
      "0 0 1 0 1 2\n",
      "0 0 1 0 1 3\n",
      "0 0 1 0 2 2\n",
      "0 0 1 0 2 3\n",
      "0 0 1 0 3 3\n",
      "0 0 1 1 1 1\n",
      "0 0 1 1 1 2\n",
      "0 0 1 1 1 3\n",
      "0 0 1 1 2 2\n",
      "0 0 1 1 2 3\n",
      "0 0 1 1 3 3\n",
      "0 0 1 2 2 2\n",
      "0 0 1 2 2 3\n",
      "0 0 1 2 3 3\n",
      "0 0 1 3 3 3\n",
      "0 0 2 0 0 0\n",
      "0 0 2 0 0 1\n",
      "0 0 2 0 0 2\n",
      "0 0 2 0 0 3\n",
      "0 0 2 0 1 1\n",
      "0 0 2 0 1 2\n",
      "0 0 2 0 1 3\n",
      "0 0 2 0 2 2\n",
      "0 0 2 0 2 3\n",
      "0 0 2 0 3 3\n",
      "0 0 2 1 1 1\n",
      "0 0 2 1 1 2\n",
      "0 0 2 1 1 3\n",
      "0 0 2 1 2 2\n",
      "0 0 2 1 2 3\n",
      "0 0 2 1 3 3\n",
      "0 0 2 2 2 2\n",
      "0 0 2 2 2 3\n",
      "0 0 2 2 3 3\n",
      "0 0 2 3 3 3\n",
      "0 0 3 0 0 0\n",
      "0 0 3 0 0 1\n",
      "0 0 3 0 0 2\n",
      "0 0 3 0 0 3\n",
      "0 0 3 0 1 1\n",
      "0 0 3 0 1 2\n",
      "0 0 3 0 1 3\n",
      "0 0 3 0 2 2\n",
      "0 0 3 0 2 3\n",
      "0 0 3 0 3 3\n",
      "0 0 3 1 1 1\n",
      "0 0 3 1 1 2\n",
      "0 0 3 1 1 3\n",
      "0 0 3 1 2 2\n",
      "0 0 3 1 2 3\n",
      "0 0 3 1 3 3\n",
      "0 0 3 2 2 2\n",
      "0 0 3 2 2 3\n",
      "0 0 3 2 3 3\n",
      "0 0 3 3 3 3\n",
      "0 1 1 0 1 1\n",
      "0 1 1 0 1 2\n",
      "0 1 1 0 1 3\n",
      "0 1 1 0 2 2\n",
      "0 1 1 0 2 3\n",
      "0 1 1 0 3 3\n",
      "0 1 1 1 1 1\n",
      "0 1 1 1 1 2\n",
      "0 1 1 1 1 3\n",
      "0 1 1 1 2 2\n",
      "0 1 1 1 2 3\n",
      "0 1 1 1 3 3\n",
      "0 1 1 2 2 2\n",
      "0 1 1 2 2 3\n",
      "0 1 1 2 3 3\n",
      "0 1 1 3 3 3\n",
      "0 1 2 0 1 1\n",
      "0 1 2 0 1 2\n",
      "0 1 2 0 1 3\n",
      "0 1 2 0 2 2\n",
      "0 1 2 0 2 3\n",
      "0 1 2 0 3 3\n",
      "0 1 2 1 1 1\n",
      "0 1 2 1 1 2\n",
      "0 1 2 1 1 3\n",
      "0 1 2 1 2 2\n",
      "0 1 2 1 2 3\n",
      "0 1 2 1 3 3\n",
      "0 1 2 2 2 2\n",
      "0 1 2 2 2 3\n",
      "0 1 2 2 3 3\n",
      "0 1 2 3 3 3\n",
      "0 1 3 0 1 1\n",
      "0 1 3 0 1 2\n",
      "0 1 3 0 1 3\n",
      "0 1 3 0 2 2\n",
      "0 1 3 0 2 3\n",
      "0 1 3 0 3 3\n",
      "0 1 3 1 1 1\n",
      "0 1 3 1 1 2\n",
      "0 1 3 1 1 3\n",
      "0 1 3 1 2 2\n",
      "0 1 3 1 2 3\n",
      "0 1 3 1 3 3\n",
      "0 1 3 2 2 2\n",
      "0 1 3 2 2 3\n",
      "0 1 3 2 3 3\n",
      "0 1 3 3 3 3\n",
      "0 2 2 0 2 2\n",
      "0 2 2 0 2 3\n",
      "0 2 2 0 3 3\n",
      "0 2 2 1 2 2\n",
      "0 2 2 1 2 3\n",
      "0 2 2 1 3 3\n",
      "0 2 2 2 2 2\n",
      "0 2 2 2 2 3\n",
      "0 2 2 2 3 3\n",
      "0 2 2 3 3 3\n",
      "0 2 3 0 2 2\n",
      "0 2 3 0 2 3\n",
      "0 2 3 0 3 3\n",
      "0 2 3 1 2 2\n",
      "0 2 3 1 2 3\n",
      "0 2 3 1 3 3\n",
      "0 2 3 2 2 2\n",
      "0 2 3 2 2 3\n",
      "0 2 3 2 3 3\n",
      "0 2 3 3 3 3\n",
      "0 3 3 0 3 3\n",
      "0 3 3 1 3 3\n",
      "0 3 3 2 3 3\n",
      "0 3 3 3 3 3\n",
      "1 1 1 1 1 1\n",
      "1 1 1 1 1 2\n",
      "1 1 1 1 1 3\n",
      "1 1 1 1 2 2\n",
      "1 1 1 1 2 3\n",
      "1 1 1 1 3 3\n",
      "1 1 1 2 2 2\n",
      "1 1 1 2 2 3\n",
      "1 1 1 2 3 3\n",
      "1 1 1 3 3 3\n",
      "1 1 2 1 1 1\n",
      "1 1 2 1 1 2\n",
      "1 1 2 1 1 3\n",
      "1 1 2 1 2 2\n",
      "1 1 2 1 2 3\n",
      "1 1 2 1 3 3\n",
      "1 1 2 2 2 2\n",
      "1 1 2 2 2 3\n",
      "1 1 2 2 3 3\n",
      "1 1 2 3 3 3\n",
      "1 1 3 1 1 1\n",
      "1 1 3 1 1 2\n",
      "1 1 3 1 1 3\n",
      "1 1 3 1 2 2\n",
      "1 1 3 1 2 3\n",
      "1 1 3 1 3 3\n",
      "1 1 3 2 2 2\n",
      "1 1 3 2 2 3\n",
      "1 1 3 2 3 3\n",
      "1 1 3 3 3 3\n",
      "1 2 2 1 2 2\n",
      "1 2 2 1 2 3\n",
      "1 2 2 1 3 3\n",
      "1 2 2 2 2 2\n",
      "1 2 2 2 2 3\n",
      "1 2 2 2 3 3\n",
      "1 2 2 3 3 3\n",
      "1 2 3 1 2 2\n",
      "1 2 3 1 2 3\n",
      "1 2 3 1 3 3\n",
      "1 2 3 2 2 2\n",
      "1 2 3 2 2 3\n",
      "1 2 3 2 3 3\n",
      "1 2 3 3 3 3\n",
      "1 3 3 1 3 3\n",
      "1 3 3 2 3 3\n",
      "1 3 3 3 3 3\n",
      "2 2 2 2 2 2\n",
      "2 2 2 2 2 3\n",
      "2 2 2 2 3 3\n",
      "2 2 2 3 3 3\n",
      "2 2 3 2 2 2\n",
      "2 2 3 2 2 3\n",
      "2 2 3 2 3 3\n",
      "2 2 3 3 3 3\n",
      "2 3 3 2 3 3\n",
      "2 3 3 3 3 3\n",
      "3 3 3 3 3 3\n"
     ]
    }
   ],
   "source": [
    "N=4\n",
    "T=np.zeros(N**6)\n",
    "\n",
    "i=0\n",
    "\n",
    "for ix1 in range(N):\n",
    "    for ix2 in range(ix1, N):\n",
    "        for ix3 in range(ix2, N):\n",
    "            for ix4 in range(ix1, N):\n",
    "                for ix5 in range(ix4, N):\n",
    "                    if(ix5>=ix2):\n",
    "                        for ix6 in range(ix5, N):\n",
    "                            print(ix1, ix2, ix3, ix4, ix5, ix6)\n",
    "\n",
    "\n",
    "                        "
   ]
  },
  {
   "cell_type": "code",
   "execution_count": 16,
   "metadata": {},
   "outputs": [
    {
     "data": {
      "text/plain": [
       "<matplotlib.colorbar.Colorbar at 0x7f5e4c6a33a0>"
      ]
     },
     "execution_count": 16,
     "metadata": {},
     "output_type": "execute_result"
    },
    {
     "data": {
      "image/png": "[encoded data removed]",
      "text/plain": [
       "<Figure size 432x288 with 2 Axes>"
      ]
     },
     "metadata": {
      "needs_background": "light"
     },
     "output_type": "display_data"
    }
   ],
   "source": [
    "plt.imshow(T.reshape(64,64), norm=LogNorm())\n",
    "plt.colorbar()"
   ]
  },
  {
   "cell_type": "code",
   "execution_count": 3,
   "metadata": {},
   "outputs": [
    {
     "data": {
      "text/plain": [
       "<matplotlib.image.AxesImage at 0x7f5677f7c640>"
      ]
     },
     "execution_count": 3,
     "metadata": {},
     "output_type": "execute_result"
    },
    {
     "data": {
      "image/png": "[encoded data removed]",
      "text/plain": [
       "<Figure size 432x288 with 1 Axes>"
      ]
     },
     "metadata": {
      "needs_background": "light"
     },
     "output_type": "display_data"
    }
   ],
   "source": [
    "arr=np.arange(210)\n",
    "arr2=np.zeros((20,20))\n",
    "\n",
    "# indices=np.triu_indices(20,0)\n",
    "\n",
    "\n",
    "\n",
    "# arr2[indices]=arr\n",
    "\n",
    "# print(arr2[indices].shape)\n",
    "\n",
    "# plt.imshow(arr2)\n",
    "\n",
    "# print(indices[1])\n",
    "\n",
    "\n",
    "ix=0\n",
    "for i in range(20):\n",
    "    for j in range(i, 20):\n",
    "        arr2[i, j]=arr[ix]\n",
    "        ix+=1\n",
    "    \n",
    "for i in range(20):\n",
    "    for j in range(0, i):\n",
    "        arr2[i, j] = arr2[j, i]\n",
    "\n",
    "plt.imshow(arr2)\n"
   ]
  },
  {
   "cell_type": "code",
   "execution_count": null,
   "metadata": {},
   "outputs": [],
   "source": []
  }
 ],
 "metadata": {
  "interpreter": {
   "hash": "0e37524af6d812a8cc11f6db2bc0d8549926bf4fedcd3b230ba0c7bff4fc0d13"
  },
  "kernelspec": {
   "display_name": "Python 3.8.5 64-bit ('base': conda)",
   "name": "python3"
  },
  "language_info": {
   "codemirror_mode": {
    "name": "ipython",
    "version": 3
   },
   "file_extension": ".py",
   "mimetype": "text/x-python",
   "name": "python",
   "nbconvert_exporter": "python",
   "pygments_lexer": "ipython3",
   "version": "3.9.7"
  },
  "orig_nbformat": 4
 },
 "nbformat": 4,
 "nbformat_minor": 2
}

{
 "cells": [
  {
   "cell_type": "markdown",
   "metadata": {},
   "source": [
    "# Preamble"
   ]
  },
  {
   "cell_type": "markdown",
   "metadata": {},
   "source": [
    "### Imports"
   ]
  },
  {
   "cell_type": "code",
   "execution_count": 1,
   "metadata": {
    "ExecuteTime": {
     "end_time": "2023-01-03T23:19:36.589411Z",
     "start_time": "2023-01-03T23:19:36.574653Z"
    }
   },
   "outputs": [],
   "source": [
    "import os\n",
    "# os.chdir(\"/users/sven/Documents/code/threepoint/python_scripts/\")\n",
    "\n",
    "# from file_loader import get_kappa_millennium\n",
    "# from compute_aperture_mass import aperture_mass_computer\n",
    "import numpy as np\n",
    "import sys\n",
    "import multiprocessing as mp\n",
    "from itertools import permutations\n",
    "import os\n",
    "# from astropy.convolution import convolve_fft\n",
    "from scipy import ndimage\n",
    "from scipy.signal import fftconvolve,correlate\n",
    "from astropy.io import fits\n",
    "import warnings\n",
    "\n",
    "import numpy as np\n",
    "import matplotlib.pyplot as plt\n",
    "from scipy.interpolate import interp1d\n",
    "from scipy.integrate import quad,trapz\n",
    "# import treecorr\n",
    "from itertools import permutations\n",
    "from tqdm.notebook import tqdm,trange\n",
    "import sys\n",
    "from matplotlib import colors\n",
    "from math import log as mlog\n",
    "\n",
    "import shutil\n",
    "\n"
   ]
  },
  {
   "cell_type": "markdown",
   "metadata": {},
   "source": [
    "### General functions"
   ]
  },
  {
   "cell_type": "code",
   "execution_count": 2,
   "metadata": {
    "ExecuteTime": {
     "end_time": "2023-01-03T23:13:37.175635Z",
     "start_time": "2023-01-03T23:13:37.129576Z"
    }
   },
   "outputs": [],
   "source": [
    "def progressBar(name, value, endvalue, bar_length = 25, width = 20):\n",
    "    \"\"\"\n",
    "    Displays a progress bar with \"name\", tracking the progess of value/endvalue\n",
    "    \"\"\"\n",
    "    percent = float(value) / endvalue\n",
    "    arrow = '-' * int(round(percent*bar_length) - 1) + '>'\n",
    "    spaces = ' ' * (bar_length - len(arrow))\n",
    "    sys.stdout.write(\"\\r{0: <{1}} : [{2}]{3}%\".format(name, width, arrow + spaces, int(round(percent*100))))\n",
    "    sys.stdout.flush()\n",
    "    if value == endvalue:\n",
    "         sys.stdout.write('\\n\\n')\n",
    "\n",
    "\n",
    "def Efunction(theta,L=60.):\n",
    "    theta = theta/L\n",
    "    if(hasattr(theta,\"__len__\")):\n",
    "        result = np.zeros_like(theta)\n",
    "        result[(theta<=1)] = (np.pi+ (theta[(theta<=1)]-4)*theta[(theta<=1)])/np.pi\n",
    "        result[(theta>1)] = (2*((-1) + 2*np.sqrt(1 - theta[(theta>1)]**(-2))*theta[(theta>1)] \\\n",
    "                                - (theta[(theta>1)]**2)/2 - np.arccos(theta[(theta>1)]**(-1)) \\\n",
    "                                + np.arcsin(theta[(theta>1)]**(-1))))/np.pi\n",
    "        result[(theta>=np.sqrt(2))] = 0\n",
    "    else:\n",
    "        if(theta<=1):\n",
    "            result = (np.pi+ (theta-4)*theta)/np.pi\n",
    "        if(theta>1):\n",
    "            result = (2*((-1) + 2*np.sqrt(1 - theta**(-2))*theta \\\n",
    "                                - (theta**2)/2 - np.arccos(theta**(-1)) \\\n",
    "                                + np.arcsin(theta**(-1))))/np.pi\n",
    "        if(theta>=np.sqrt(2)):\n",
    "            result = 0\n",
    "    return result\n",
    "\n",
    "def index_of(theta_ap):\n",
    "    return int(round(mlog(theta_ap,2)))-1\n",
    "\n",
    "\n",
    "def standfracstr(s1,s2):\n",
    "    x = s1+\"-\"+s2\n",
    "    y = r\"\\sqrt{\"+s1+\"^2+\"+s2+\"^2}\"\n",
    "    return r\"$\\frac{\"+x+\"}{\"+y+\"}$\"\n",
    "\n",
    "def get_theta_combinations(theta_ap,return_str=True):\n",
    "    n_ap = len(theta_ap)\n",
    "    aperture_radii = []\n",
    "    for i in range(n_ap):\n",
    "        for j in range(i,n_ap):\n",
    "            for k in range(j,n_ap):\n",
    "                if return_str:\n",
    "                    aperture_radii.append(r\"$({}',{}',{}')$\".format(theta_ap[i],theta_ap[j],theta_ap[k]))\n",
    "    return aperture_radii"
   ]
  },
  {
   "cell_type": "code",
   "execution_count": 3,
   "metadata": {
    "ExecuteTime": {
     "end_time": "2023-01-03T23:14:10.099157Z",
     "start_time": "2023-01-03T23:14:10.093763Z"
    }
   },
   "outputs": [],
   "source": [
    "used_sim = \"SLICS\" #MS or SLICS"
   ]
  },
  {
   "cell_type": "markdown",
   "metadata": {},
   "source": [
    "### define the correct L (if the calculated covariance is wrong check if you have done this)"
   ]
  },
  {
   "cell_type": "code",
   "execution_count": 4,
   "metadata": {
    "ExecuteTime": {
     "end_time": "2023-01-03T23:14:11.212034Z",
     "start_time": "2023-01-03T23:14:11.205082Z"
    }
   },
   "outputs": [],
   "source": [
    "if used_sim==\"MS\":\n",
    "    L = (4*60-8*16)/60/180*np.pi\n",
    "elif used_sim==\"SLICS\":\n",
    "    L = (10*60-8*16)/60/180*np.pi\n",
    "else:\n",
    "    raise ValueError(\"Invalid used_sim. Allowed: MS,SLICS\")"
   ]
  },
  {
   "cell_type": "code",
   "execution_count": 5,
   "metadata": {
    "ExecuteTime": {
     "start_time": "2023-01-03T23:20:50.048Z"
    }
   },
   "outputs": [
    {
     "data": {
      "application/vnd.jupyter.widget-view+json": {
       "model_id": "0256edf1507e4b1f996a93832606b6c7",
       "version_major": 2,
       "version_minor": 0
      },
      "text/plain": [
       "Reading map powers:   0%|          | 0/726 [00:00<?, ?it/s]"
      ]
     },
     "metadata": {},
     "output_type": "display_data"
    },
    {
     "data": {
      "application/vnd.jupyter.widget-view+json": {
       "model_id": "bb40fa8634304d6aa7973ee9c53711ec",
       "version_major": 2,
       "version_minor": 0
      },
      "text/plain": [
       "Reading mapsq mapsq: 0it [00:00, ?it/s]"
      ]
     },
     "metadata": {},
     "output_type": "display_data"
    }
   ],
   "source": [
    "if(used_sim==\"MS\"):\n",
    "    all_los = np.arange(64)\n",
    "    fpath = \"/vol/euclid2/euclid2_raid2/sven/mapCorr_for_T4/\"\n",
    "elif used_sim==\"SLICS\":\n",
    "    all_los = np.arange(74,800)\n",
    "    fpath = \"/vol/euclid5raid5/data/euclid2_raid2/sven/mapCorr_SLICS_for_T4_kappa/\"\n",
    "else:\n",
    "    raise ValueError(\"Invalid used_sim. Allowed: MS,SLICS\")\n",
    "\n",
    "    \n",
    "n_los = len(all_los)\n",
    "\n",
    "mask = np.zeros(n_los,dtype=bool)\n",
    "\n",
    "    \n",
    "all_theta_ap = [2,4,8,16]\n",
    "\n",
    "\n",
    "n_theta_ap = len(all_theta_ap)\n",
    "n_theta = 2000-1\n",
    "\n",
    "results_mapsq_mapsq = np.zeros((n_los,n_theta_ap,n_theta_ap,n_theta_ap,n_theta_ap,n_theta))\n",
    "\n",
    "mean_thetas = np.zeros(n_theta)\n",
    "\n",
    "\n",
    "map_squared = np.zeros((n_los,n_theta_ap,n_theta_ap))\n",
    "\n",
    "for x,los in enumerate(tqdm(all_los,desc=\"Reading map powers\")):\n",
    "    try:\n",
    "        map_squared[x] = np.load(fpath+\"map_squared_los_{}.npy\".format(los))\n",
    "\n",
    "        mask[x] = True #check which los are available, only read in that ones\n",
    "        \n",
    "    except Exception as e:\n",
    "        pass\n",
    "    \n",
    "map_squared = map_squared[mask]\n",
    "\n",
    "\n",
    "\n",
    "all_los = all_los[mask]\n",
    "n_los = len(all_los)\n",
    "\n",
    "results_mapsq_mapsq = np.zeros((n_los,n_theta_ap,n_theta_ap,n_theta))\n",
    "mean_thetas = np.zeros(n_theta)\n",
    "\n",
    "mask2 = np.ones(n_los,dtype=bool) #verify that everything is available\n",
    "\n",
    "\n",
    "\n",
    "\n",
    "for x,los in enumerate(tqdm(all_los,desc=\"Reading mapsq mapsq\")):\n",
    "    for i in range(n_theta_ap):\n",
    "        for j in range(i,n_theta_ap):\n",
    "            for ii in range(n_theta_ap):\n",
    "                for jj in range(ii,n_theta_ap):\n",
    "                    try:\n",
    "                        shutil.move(fpath+\"ggcorr_mapsq_{}_{}_mapsq_{}_{}_los_{}.dat.npy\".format(all_theta_ap[i],\n",
    "                                                    all_theta_ap[j],\n",
    "                                                    all_theta_ap[ii],\n",
    "                                                    all_theta_ap[jj],\n",
    "                                                    los),\n",
    "                                   fpath+\"ggcorr_mapsq_{}_{}_mapsq_{}_{}_los_{}.npy\".format(all_theta_ap[i],\n",
    "                                                    all_theta_ap[j],\n",
    "                                                    all_theta_ap[ii],\n",
    "                                                    all_theta_ap[jj],\n",
    "                                                    los))\n",
    "                    except Exception as e:\n",
    "                        print(\"Could not move \",\"ggcorr_mapsq_{}_{}_mapsq_{}_{}_los_{}.dat.npy\".format(all_theta_ap[i],\n",
    "                                                    all_theta_ap[j],\n",
    "                                                    all_theta_ap[ii],\n",
    "                                                    all_theta_ap[jj],\n",
    "                                                    los))\n",
    "                    try:\n",
    "                        gg = np.load(fpath+\"ggcorr_mapsq_{}_{}_mapsq_{}_{}_los_{}.npy\".format(all_theta_ap[i],\n",
    "                                                    all_theta_ap[j],\n",
    "                                                    all_theta_ap[ii],\n",
    "                                                    all_theta_ap[jj],\n",
    "                                                    los))\n",
    "                    except Exception as e:\n",
    "                        print(e)\n",
    "                        mask2[x]=0\n",
    "                        continue\n",
    "                    for idi,idj in permutations([i,j]):\n",
    "                        for idii,idjj in permutations([ii,jj]):\n",
    "                            results_mapsq_mapsq[x,idi,idj,idii,idjj] = gg[1,:-1]\n",
    "\n"
   ]
  },
  {
   "cell_type": "code",
   "execution_count": 6,
   "metadata": {
    "ExecuteTime": {
     "start_time": "2023-01-03T23:20:58.790Z"
    }
   },
   "outputs": [
    {
     "name": "stdout",
     "output_type": "stream",
     "text": [
      "Length matches. computing average\n"
     ]
    },
    {
     "name": "stderr",
     "output_type": "stream",
     "text": [
      "/home/laila/anaconda3/lib/python3.10/site-packages/numpy/core/fromnumeric.py:3464: RuntimeWarning: Mean of empty slice.\n",
      "  return _methods._mean(a, axis=axis, dtype=dtype,\n",
      "/home/laila/anaconda3/lib/python3.10/site-packages/numpy/core/_methods.py:184: RuntimeWarning: invalid value encountered in divide\n",
      "  ret = um.true_divide(\n"
     ]
    }
   ],
   "source": [
    "\n",
    "map_squared_mean = np.mean(map_squared,axis=0)\n",
    "\n",
    "\n",
    "if(np.sum(mask2)==len(mask2)):\n",
    "    print(\"Length matches. computing average\")\n",
    "\n",
    "    results_mapsq_mapsq_mean = np.mean(results_mapsq_mapsq,axis=0)\n",
    "\n",
    "\n",
    "else:\n",
    "    print(\"WARNING: Length does not match: {}/{}. Excluding los with missing elements\".format(np.sum(mask2),len(mask2)))\n",
    "\n",
    "    results_mapsq_mapsq_mean = np.mean(results_mapsq_mapsq[mask2],axis=0)\n",
    "\n"
   ]
  },
  {
   "cell_type": "code",
   "execution_count": 7,
   "metadata": {
    "ExecuteTime": {
     "start_time": "2023-01-03T23:20:58.972Z"
    }
   },
   "outputs": [
    {
     "ename": "FileNotFoundError",
     "evalue": "[Errno 2] No such file or directory: '/vol/euclid5raid5/data/euclid2_raid2/sven/mapCorr_SLICS_for_T4_kappa/theta_bins.npy'",
     "output_type": "error",
     "traceback": [
      "\u001b[0;31m---------------------------------------------------------------------------\u001b[0m",
      "\u001b[0;31mFileNotFoundError\u001b[0m                         Traceback (most recent call last)",
      "Cell \u001b[0;32mIn[7], line 1\u001b[0m\n\u001b[0;32m----> 1\u001b[0m thetas_mean \u001b[39m=\u001b[39m np\u001b[39m.\u001b[39;49mload(fpath\u001b[39m+\u001b[39;49m\u001b[39m\"\u001b[39;49m\u001b[39mtheta_bins.npy\u001b[39;49m\u001b[39m\"\u001b[39;49m)[:\u001b[39m-\u001b[39m\u001b[39m1\u001b[39m]\n",
      "File \u001b[0;32m~/anaconda3/lib/python3.10/site-packages/numpy/lib/npyio.py:405\u001b[0m, in \u001b[0;36mload\u001b[0;34m(file, mmap_mode, allow_pickle, fix_imports, encoding, max_header_size)\u001b[0m\n\u001b[1;32m    403\u001b[0m     own_fid \u001b[39m=\u001b[39m \u001b[39mFalse\u001b[39;00m\n\u001b[1;32m    404\u001b[0m \u001b[39melse\u001b[39;00m:\n\u001b[0;32m--> 405\u001b[0m     fid \u001b[39m=\u001b[39m stack\u001b[39m.\u001b[39menter_context(\u001b[39mopen\u001b[39;49m(os_fspath(file), \u001b[39m\"\u001b[39;49m\u001b[39mrb\u001b[39;49m\u001b[39m\"\u001b[39;49m))\n\u001b[1;32m    406\u001b[0m     own_fid \u001b[39m=\u001b[39m \u001b[39mTrue\u001b[39;00m\n\u001b[1;32m    408\u001b[0m \u001b[39m# Code to distinguish from NumPy binary files and pickles.\u001b[39;00m\n",
      "\u001b[0;31mFileNotFoundError\u001b[0m: [Errno 2] No such file or directory: '/vol/euclid5raid5/data/euclid2_raid2/sven/mapCorr_SLICS_for_T4_kappa/theta_bins.npy'"
     ]
    }
   ],
   "source": [
    "thetas_mean = np.load(fpath+\"theta_bins.npy\")[:-1]\n",
    "\n",
    "\n"
   ]
  },
  {
   "cell_type": "code",
   "execution_count": null,
   "metadata": {},
   "outputs": [],
   "source": [
    "def calculateNonGaussianMap2Covariance(th1,th2,L):\n",
    "    idx1 = index_of(th1)\n",
    "    idx2 = index_of(th2)\n",
    "\n",
    "    mysum = results_mapsq_mapsq_mean[idx1,idx1,idx2,idx2]\n",
    "    integrand = thetas_mean*Efunction(thetas_mean,L)*mysum\n",
    "    result,err = trapz(integrand,thetas_mean)\n",
    "    return 2*np.pi/(L*L)*result"
   ]
  },
  {
   "cell_type": "code",
   "execution_count": null,
   "metadata": {},
   "outputs": [],
   "source": [
    "C=[]\n",
    "for th1 in [4,8,16]:\n",
    "    for th2 in [4,8,16]:\n",
    "        C.append(calculateNonGaussianMap2Covariance(th1, th2, L))\n",
    "\n",
    "C=np.array(C)\n",
    "\n",
    "np.savetxt(\"./C_Map2_test.dat\", C)"
   ]
  }
 ],
 "metadata": {
  "kernelspec": {
   "display_name": "Python 3",
   "language": "python",
   "name": "python3"
  },
  "language_info": {
   "codemirror_mode": {
    "name": "ipython",
    "version": 3
   },
   "file_extension": ".py",
   "mimetype": "text/x-python",
   "name": "python",
   "nbconvert_exporter": "python",
   "pygments_lexer": "ipython3",
   "version": "3.10.10"
  }
 },
 "nbformat": 4,
 "nbformat_minor": 2
}

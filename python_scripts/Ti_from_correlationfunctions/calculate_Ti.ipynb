{
 "cells": [
  {
   "cell_type": "markdown",
   "metadata": {},
   "source": [
    "# Preamble"
   ]
  },
  {
   "cell_type": "markdown",
   "metadata": {},
   "source": [
    "### Imports"
   ]
  },
  {
   "cell_type": "code",
   "execution_count": 45,
   "metadata": {
    "ExecuteTime": {
     "end_time": "2023-01-03T23:19:36.589411Z",
     "start_time": "2023-01-03T23:19:36.574653Z"
    }
   },
   "outputs": [],
   "source": [
    "import os\n",
    "# os.chdir(\"/users/sven/Documents/code/threepoint/python_scripts/\")\n",
    "\n",
    "# from file_loader import get_kappa_millennium\n",
    "# from compute_aperture_mass import aperture_mass_computer\n",
    "import numpy as np\n",
    "import sys\n",
    "import multiprocessing as mp\n",
    "from itertools import permutations\n",
    "import os\n",
    "# from astropy.convolution import convolve_fft\n",
    "from scipy import ndimage\n",
    "from scipy.signal import fftconvolve,correlate\n",
    "from astropy.io import fits\n",
    "import warnings\n",
    "\n",
    "import numpy as np\n",
    "import matplotlib.pyplot as plt\n",
    "from scipy.interpolate import interp1d\n",
    "from scipy.integrate import quad,trapz\n",
    "# import treecorr\n",
    "from itertools import permutations\n",
    "from tqdm.notebook import tqdm,trange\n",
    "import sys\n",
    "from matplotlib import colors\n",
    "from math import log as mlog\n",
    "\n",
    "import shutil\n",
    "\n"
   ]
  },
  {
   "cell_type": "markdown",
   "metadata": {},
   "source": [
    "### Nice plots"
   ]
  },
  {
   "cell_type": "code",
   "execution_count": 6,
   "metadata": {
    "ExecuteTime": {
     "end_time": "2023-01-03T19:14:52.703188Z",
     "start_time": "2023-01-03T19:14:52.682192Z"
    }
   },
   "outputs": [],
   "source": [
    "plt.rcParams['figure.figsize']        = 8., 6.\n",
    "plt.rcParams['figure.dpi']            = 100\n",
    "plt.rcParams['figure.subplot.left']   = 0.125\n",
    "plt.rcParams['figure.subplot.right']  = 0.9\n",
    "plt.rcParams['figure.subplot.bottom'] = 0.125\n",
    "plt.rcParams['figure.subplot.top']    = 0.9\n",
    "plt.rcParams['axes.labelsize']        = 18\n",
    "plt.rcParams['axes.titlesize']        = 18\n",
    "plt.rcParams['xtick.top']             = True\n",
    "plt.rcParams['xtick.bottom']          = True\n",
    "plt.rcParams['ytick.left']            = True\n",
    "plt.rcParams['ytick.right']           = True\n",
    "plt.rcParams['xtick.direction']       = 'in'\n",
    "plt.rcParams['ytick.direction']       = 'in'\n",
    "plt.rcParams['xtick.labelsize']       = 18\n",
    "plt.rcParams['ytick.labelsize']       = 18\n",
    "plt.rcParams['xtick.major.pad']       = 6.\n",
    "plt.rcParams['xtick.minor.pad']       = 6.\n",
    "plt.rcParams['ytick.major.pad']       = 6.\n",
    "plt.rcParams['ytick.minor.pad']       = 6.\n",
    "plt.rcParams['xtick.major.size']      = 6. # major tick size in points\n",
    "plt.rcParams['xtick.minor.size']      = 3. # minor tick size in points\n",
    "plt.rcParams['ytick.major.size']      = 6. # major tick size in points\n",
    "plt.rcParams['ytick.minor.size']      = 3. # minor tick size in points\n",
    "plt.rcParams['text.usetex']           = True\n",
    "plt.rcParams['font.family']           = 'serif'\n",
    "#plt.rcParams['font.serif']            = 'Computer Modern Roman Bold'\n",
    "plt.rcParams['font.size']             = 18\n"
   ]
  },
  {
   "cell_type": "markdown",
   "metadata": {},
   "source": [
    "### General functions"
   ]
  },
  {
   "cell_type": "code",
   "execution_count": 38,
   "metadata": {
    "ExecuteTime": {
     "end_time": "2023-01-03T23:13:37.175635Z",
     "start_time": "2023-01-03T23:13:37.129576Z"
    }
   },
   "outputs": [],
   "source": [
    "def progressBar(name, value, endvalue, bar_length = 25, width = 20):\n",
    "    \"\"\"\n",
    "    Displays a progress bar with \"name\", tracking the progess of value/endvalue\n",
    "    \"\"\"\n",
    "    percent = float(value) / endvalue\n",
    "    arrow = '-' * int(round(percent*bar_length) - 1) + '>'\n",
    "    spaces = ' ' * (bar_length - len(arrow))\n",
    "    sys.stdout.write(\"\\r{0: <{1}} : [{2}]{3}%\".format(name, width, arrow + spaces, int(round(percent*100))))\n",
    "    sys.stdout.flush()\n",
    "    if value == endvalue:\n",
    "         sys.stdout.write('\\n\\n')\n",
    "\n",
    "\n",
    "def Efunction(theta,L=60.):\n",
    "    theta = theta/L\n",
    "    if(hasattr(theta,\"__len__\")):\n",
    "        result = np.zeros_like(theta)\n",
    "        result[(theta<=1)] = (np.pi+ (theta[(theta<=1)]-4)*theta[(theta<=1)])/np.pi\n",
    "        result[(theta>1)] = (2*((-1) + 2*np.sqrt(1 - theta[(theta>1)]**(-2))*theta[(theta>1)] \\\n",
    "                                - (theta[(theta>1)]**2)/2 - np.arccos(theta[(theta>1)]**(-1)) \\\n",
    "                                + np.arcsin(theta[(theta>1)]**(-1))))/np.pi\n",
    "        result[(theta>=np.sqrt(2))] = 0\n",
    "    else:\n",
    "        if(theta<=1):\n",
    "            result = (np.pi+ (theta-4)*theta)/np.pi\n",
    "        if(theta>1):\n",
    "            result = (2*((-1) + 2*np.sqrt(1 - theta**(-2))*theta \\\n",
    "                                - (theta**2)/2 - np.arccos(theta**(-1)) \\\n",
    "                                + np.arcsin(theta**(-1))))/np.pi\n",
    "        if(theta>=np.sqrt(2)):\n",
    "            result = 0\n",
    "    return result\n",
    "\n",
    "def index_of(theta_ap):\n",
    "    return int(round(mlog(theta_ap,2)))-1\n",
    "\n",
    "\n",
    "def standfracstr(s1,s2):\n",
    "    x = s1+\"-\"+s2\n",
    "    y = r\"\\sqrt{\"+s1+\"^2+\"+s2+\"^2}\"\n",
    "    return r\"$\\frac{\"+x+\"}{\"+y+\"}$\"\n",
    "\n",
    "def get_theta_combinations(theta_ap,return_str=True):\n",
    "    n_ap = len(theta_ap)\n",
    "    aperture_radii = []\n",
    "    for i in range(n_ap):\n",
    "        for j in range(i,n_ap):\n",
    "            for k in range(j,n_ap):\n",
    "                if return_str:\n",
    "                    aperture_radii.append(r\"$({}',{}',{}')$\".format(theta_ap[i],theta_ap[j],theta_ap[k]))\n",
    "    return aperture_radii"
   ]
  },
  {
   "cell_type": "markdown",
   "metadata": {},
   "source": [
    "## functions for calculating Ti"
   ]
  },
  {
   "cell_type": "code",
   "execution_count": 34,
   "metadata": {
    "ExecuteTime": {
     "end_time": "2023-01-03T23:13:02.339943Z",
     "start_time": "2023-01-03T23:13:02.310919Z"
    }
   },
   "outputs": [],
   "source": [
    "def map_map_cubed(th1,th2,th3,th4,th5,th6):\n",
    "    idx1 = index_of(th1)\n",
    "    idx2 = index_of(th2)\n",
    "    idx3 = index_of(th3)\n",
    "    idx4 = index_of(th4)\n",
    "    idx5 = index_of(th5)\n",
    "    idx6 = index_of(th6)\n",
    "\n",
    "    return results_map_map_mean[idx1,idx2]*results_map_map_mean[idx3,idx4]*results_map_map_mean[idx5,idx6]\n",
    "\n",
    "def map_map_cubed_T2(th1,th2,th3,th4,th5,th6):\n",
    "    idx1 = index_of(th1)\n",
    "    idx2 = index_of(th2)\n",
    "    idx3 = index_of(th3)\n",
    "    idx4 = index_of(th4)\n",
    "    idx5 = index_of(th5)\n",
    "    idx6 = index_of(th6)\n",
    "\n",
    "    return map_squared_mean[idx1,idx2]*map_squared_mean[idx3,idx4]*results_map_map_mean[idx5,idx6]\n",
    "\n",
    "def map_map_mapsq_mapsq_T5(th1,th2,th3,th4,th5,th6):\n",
    "    idx1 = index_of(th1)\n",
    "    idx2 = index_of(th2)\n",
    "    idx3 = index_of(th3)\n",
    "    idx4 = index_of(th4)\n",
    "    idx5 = index_of(th5)\n",
    "    idx6 = index_of(th6)\n",
    "\n",
    "    return results_map_map_mean[idx1,idx2]*results_mapsq_mapsq_mean[idx3,idx4,idx5,idx6]\n",
    "\n",
    "def map_map_map_mapcu_T6(th1,th2,th3,th4,th5,th6):\n",
    "    idx1 = index_of(th1)\n",
    "    idx2 = index_of(th2)\n",
    "    idx3 = index_of(th3)\n",
    "    idx4 = index_of(th4)\n",
    "    idx5 = index_of(th5)\n",
    "    idx6 = index_of(th6)\n",
    "\n",
    "    return map_squared_mean[idx1,idx2]*results_map_mapcu_mean[idx3,idx4,idx5,idx6]\n"
   ]
  },
  {
   "cell_type": "code",
   "execution_count": 35,
   "metadata": {
    "ExecuteTime": {
     "end_time": "2023-01-03T23:13:04.436388Z",
     "start_time": "2023-01-03T23:13:04.333426Z"
    }
   },
   "outputs": [],
   "source": [
    "def calculateT1(th1,th2,th3,th4,th5,th6,L):\n",
    "    mysum = map_map_cubed(th1,th4,th2,th5,th3,th6) \\\n",
    "                    +   map_map_cubed(th1,th4,th2,th6,th3,th5) \\\n",
    "                    +   map_map_cubed(th1,th5,th2,th4,th3,th6) \\\n",
    "                    +   map_map_cubed(th1,th5,th2,th6,th3,th4) \\\n",
    "                    +   map_map_cubed(th1,th6,th2,th4,th3,th5) \\\n",
    "                    +   map_map_cubed(th1,th6,th2,th5,th3,th4) \n",
    "\n",
    "    integrand = thetas_mean*Efunction(thetas_mean,L)*mysum\n",
    "    result = trapz(integrand,thetas_mean)\n",
    "    return 2*np.pi/(L*L)*result\n",
    "\n",
    "def calculateT2(th1,th2,th3,th4,th5,th6,L):\n",
    "    mysum = map_map_cubed_T2(th1,th2,th4,th5,th3,th6) \\\n",
    "                        + map_map_cubed_T2(th1,th2,th4,th6,th3,th5) \\\n",
    "                        + map_map_cubed_T2(th1,th2,th5,th6,th3,th4) \\\n",
    "                        + map_map_cubed_T2(th1,th3,th4,th5,th2,th6) \\\n",
    "                        + map_map_cubed_T2(th1,th3,th4,th6,th2,th5) \\\n",
    "                        + map_map_cubed_T2(th1,th3,th5,th6,th2,th4) \\\n",
    "                        + map_map_cubed_T2(th2,th3,th4,th5,th1,th6) \\\n",
    "                        + map_map_cubed_T2(th2,th3,th4,th6,th1,th5) \\\n",
    "                        + map_map_cubed_T2(th2,th3,th5,th6,th1,th4)\n",
    "    integrand = thetas_mean*Efunction(thetas_mean,L)*mysum\n",
    "    result = trapz(integrand,thetas_mean)\n",
    "    return 2*np.pi/(L*L)*result\n",
    "\n",
    "def calculateT5raw(th1,th2,th3,th4,th5,th6,L):\n",
    "    mysum = map_map_mapsq_mapsq_T5(th1,th4,th2,th3,th5,th6) \\\n",
    "                        + map_map_mapsq_mapsq_T5(th1,th5,th2,th3,th4,th6) \\\n",
    "                        + map_map_mapsq_mapsq_T5(th1,th6,th2,th3,th4,th5) \\\n",
    "                        + map_map_mapsq_mapsq_T5(th2,th4,th1,th3,th5,th6) \\\n",
    "                        + map_map_mapsq_mapsq_T5(th2,th5,th1,th3,th4,th6) \\\n",
    "                        + map_map_mapsq_mapsq_T5(th2,th6,th1,th3,th4,th5) \\\n",
    "                        + map_map_mapsq_mapsq_T5(th3,th4,th1,th2,th5,th6) \\\n",
    "                        + map_map_mapsq_mapsq_T5(th3,th5,th1,th2,th4,th6) \\\n",
    "                        + map_map_mapsq_mapsq_T5(th3,th6,th1,th2,th4,th5)\n",
    "    integrand = thetas_mean*Efunction(thetas_mean,L)*mysum\n",
    "    result = trapz(integrand,thetas_mean)\n",
    "    return 2*np.pi/(L*L)*result\n",
    "\n",
    "\n",
    "def calculateT6raw(th1,th2,th3,th4,th5,th6,L):\n",
    "    mysum = map_map_map_mapcu_T6(th1,th2,th3,th4,th5,th6) \\\n",
    "                        + map_map_map_mapcu_T6(th1,th3,th2,th4,th5,th6) \\\n",
    "                        + map_map_map_mapcu_T6(th2,th3,th1,th4,th5,th6) \\\n",
    "                        + map_map_map_mapcu_T6(th4,th5,th6,th1,th2,th3) \\\n",
    "                        + map_map_map_mapcu_T6(th4,th6,th5,th1,th2,th3) \\\n",
    "                        + map_map_map_mapcu_T6(th5,th6,th4,th1,th2,th3) \n",
    "    integrand = thetas_mean*Efunction(thetas_mean,L)*mysum\n",
    "    result = trapz(integrand,thetas_mean)\n",
    "    return 2*np.pi/(L*L)*result\n",
    "\n",
    "\n",
    "def calculateT4(th1,th2,th3,th4,th5,th6,L):\n",
    "    idx1 = index_of(th1)\n",
    "    idx2 = index_of(th2)\n",
    "    idx3 = index_of(th3)\n",
    "    idx4 = index_of(th4)\n",
    "    idx5 = index_of(th5)\n",
    "    idx6 = index_of(th6)\n",
    "\n",
    "    mysum =   results_mapsq_map_mean[idx1,idx2,idx4]*results_mapsq_map_mean[idx5,idx6,idx3] \\\n",
    "            + results_mapsq_map_mean[idx1,idx2,idx5]*results_mapsq_map_mean[idx4,idx6,idx3] \\\n",
    "            + results_mapsq_map_mean[idx1,idx2,idx6]*results_mapsq_map_mean[idx4,idx5,idx3] \\\n",
    "            + results_mapsq_map_mean[idx1,idx3,idx4]*results_mapsq_map_mean[idx5,idx6,idx2] \\\n",
    "            + results_mapsq_map_mean[idx1,idx3,idx5]*results_mapsq_map_mean[idx4,idx6,idx2] \\\n",
    "            + results_mapsq_map_mean[idx1,idx3,idx6]*results_mapsq_map_mean[idx4,idx5,idx2] \\\n",
    "            + results_mapsq_map_mean[idx4,idx5,idx1]*results_mapsq_map_mean[idx2,idx3,idx6] \\\n",
    "            + results_mapsq_map_mean[idx4,idx6,idx1]*results_mapsq_map_mean[idx2,idx3,idx5] \\\n",
    "            + results_mapsq_map_mean[idx5,idx6,idx1]*results_mapsq_map_mean[idx2,idx3,idx4]\n",
    "                    \n",
    "                    \n",
    "    integrand = thetas_mean*Efunction(thetas_mean,L)*mysum\n",
    "    result = trapz(integrand,thetas_mean)\n",
    "    return 2*np.pi/(L*L)*result\n",
    "\n",
    "def calculateT7(th1,th2,th3,th4,th5,th6,L):\n",
    "    idx1 = index_of(th1)\n",
    "    idx2 = index_of(th2)\n",
    "    idx3 = index_of(th3)\n",
    "    idx4 = index_of(th4)\n",
    "    idx5 = index_of(th5)\n",
    "    idx6 = index_of(th6)\n",
    "    integrand = thetas_mean*Efunction(thetas_mean,L)*results_mapcu_mapcu_mean[idx1,idx2,idx3,idx4,idx5,idx6]\n",
    "    result = trapz(integrand,thetas_mean)\n",
    "    return 2*np.pi/(L*L)*result\n"
   ]
  },
  {
   "cell_type": "markdown",
   "metadata": {},
   "source": [
    "## Define functions for $T_{PPP,2}$ and $T_{PT,2}$ via means of fields"
   ]
  },
  {
   "cell_type": "code",
   "execution_count": 10,
   "metadata": {
    "ExecuteTime": {
     "end_time": "2023-01-03T19:14:53.776949Z",
     "start_time": "2023-01-03T19:14:53.761571Z"
    }
   },
   "outputs": [],
   "source": [
    "def map_map_cubed_T2_meanfields(th1,th2,th3,th4,th5,th6):\n",
    "    idx1 = index_of(th1)\n",
    "    idx2 = index_of(th2)\n",
    "    idx3 = index_of(th3)\n",
    "    idx4 = index_of(th4)\n",
    "    idx5 = index_of(th5)\n",
    "    idx6 = index_of(th6)\n",
    "    \n",
    "    return map_squared_mean[idx1,idx2]*map_squared_mean[idx3,idx4] \\\n",
    "                *np.mean(map_single[:,idx5]*map_single[:,idx6],axis=0)\n",
    "\n",
    "def map_map_map_mapcu_T6_meanfields(th1,th2,th3,th4,th5,th6):\n",
    "    idx1 = index_of(th1)\n",
    "    idx2 = index_of(th2)\n",
    "    idx3 = index_of(th3)\n",
    "    idx4 = index_of(th4)\n",
    "    idx5 = index_of(th5)\n",
    "    idx6 = index_of(th6)\n",
    "\n",
    "    return map_squared_mean[idx1,idx2]*np.mean(map_single[:,idx3]*map_cubed[:,idx4,idx5,idx6],axis=0)\n"
   ]
  },
  {
   "cell_type": "code",
   "execution_count": null,
   "metadata": {},
   "outputs": [],
   "source": []
  },
  {
   "cell_type": "markdown",
   "metadata": {},
   "source": [
    "## Functions for calculating Gaussian covariance"
   ]
  },
  {
   "cell_type": "code",
   "execution_count": 29,
   "metadata": {
    "ExecuteTime": {
     "end_time": "2023-01-03T23:11:50.536557Z",
     "start_time": "2023-01-03T23:11:50.515729Z"
    }
   },
   "outputs": [],
   "source": [
    "def calculateGaussianMap2Covariance(th1,th2,L):\n",
    "    idx1 = index_of(th1)\n",
    "    idx2 = index_of(th2)\n",
    "\n",
    "    mysum = results_map_map_mean[idx1,idx2]**2\n",
    "    integrand = thetas_mean*Efunction(thetas_mean,L)*mysum\n",
    "    result,err = trapz(integrand,thetas_mean)\n",
    "#     *2 to account for permutations\n",
    "    return 2*2*np.pi/(L*L)*result\n",
    "\n",
    "def calculateGaussianMap2Covariance_test(th1,th2,L):\n",
    "    idx1 = index_of(th1)\n",
    "    idx2 = index_of(th2)\n",
    "    result = np.mean((map_single[:,idx1]*map_single[:,idx2])**2,axis=0)\n",
    "#     *2 to account for permutations\n",
    "    return 2*result\n",
    "\n",
    "def calculateNonGaussianMap2Covariance(th1,th2,L):\n",
    "    idx1 = index_of(th1)\n",
    "    idx2 = index_of(th2)\n",
    "    idx3 = index_of(th3)\n",
    "    idx4 = index_of(th4)\n",
    "\n",
    "    mysum = results_mapsq_mapsq_mean[idx1,idx1,idx2,idx2]\n",
    "    integrand = thetas_mean*Efunction(thetas_mean,L)*mysum\n",
    "    result,err = trapz(integrand,thetas_mean)\n",
    "    return 2*np.pi/(L*L)*result\n"
   ]
  },
  {
   "cell_type": "code",
   "execution_count": null,
   "metadata": {},
   "outputs": [],
   "source": []
  },
  {
   "cell_type": "markdown",
   "metadata": {},
   "source": [
    "# Read in either MS or SLICS"
   ]
  },
  {
   "cell_type": "code",
   "execution_count": 41,
   "metadata": {
    "ExecuteTime": {
     "end_time": "2023-01-03T23:14:10.099157Z",
     "start_time": "2023-01-03T23:14:10.093763Z"
    }
   },
   "outputs": [],
   "source": [
    "used_sim = \"SLICS\" #MS or SLICS"
   ]
  },
  {
   "cell_type": "markdown",
   "metadata": {},
   "source": [
    "### define the correct L (if the calculated covariance is wrong check if you have done this)"
   ]
  },
  {
   "cell_type": "code",
   "execution_count": 42,
   "metadata": {
    "ExecuteTime": {
     "end_time": "2023-01-03T23:14:11.212034Z",
     "start_time": "2023-01-03T23:14:11.205082Z"
    }
   },
   "outputs": [],
   "source": [
    "if used_sim==\"MS\":\n",
    "    L = (4*60-8*16)/60/180*np.pi\n",
    "elif used_sim==\"SLICS\":\n",
    "    L = (10*60-8*16)/60/180*np.pi\n",
    "else:\n",
    "    raise ValueError(\"Invalid used_sim. Allowed: MS,SLICS\")"
   ]
  },
  {
   "cell_type": "code",
   "execution_count": null,
   "metadata": {
    "ExecuteTime": {
     "start_time": "2023-01-03T23:20:50.048Z"
    }
   },
   "outputs": [
    {
     "data": {
      "application/vnd.jupyter.widget-view+json": {
       "model_id": "4c3cec1871c641b58521c30a99ae10b8"
      }
     },
     "metadata": {},
     "output_type": "display_data"
    },
    {
     "name": "stdout",
     "output_type": "stream",
     "text": [
      "\n"
     ]
    },
    {
     "data": {
      "application/vnd.jupyter.widget-view+json": {
       "model_id": "fc433fce6757408183e142f6d1057daf"
      }
     },
     "metadata": {},
     "output_type": "display_data"
    },
    {
     "name": "stdout",
     "output_type": "stream",
     "text": [
      "\n"
     ]
    },
    {
     "data": {
      "application/vnd.jupyter.widget-view+json": {
       "model_id": "2c484f5916e945b08a6ea0a1160530bc"
      }
     },
     "metadata": {},
     "output_type": "display_data"
    }
   ],
   "source": [
    "if(used_sim==\"MS\"):\n",
    "    all_los = np.arange(64)\n",
    "    fpath = \"/vol/euclid2/euclid2_raid2/sven/mapCorr_for_T4/\"\n",
    "elif used_sim==\"SLICS\":\n",
    "    all_los = np.arange(74,800)\n",
    "    fpath = \"/vol/euclid2/euclid2_raid2/sven/mapCorr_SLICS_for_T4_kappa/\"\n",
    "else:\n",
    "    raise ValueError(\"Invalid used_sim. Allowed: MS,SLICS\")\n",
    "\n",
    "    \n",
    "n_los = len(all_los)\n",
    "\n",
    "mask = np.zeros(n_los,dtype=bool)\n",
    "\n",
    "    \n",
    "all_theta_ap = [2,4,8,16]\n",
    "\n",
    "\n",
    "n_theta_ap = len(all_theta_ap)\n",
    "n_theta = 2000-1\n",
    "\n",
    "results_map_map = np.zeros((n_los,n_theta_ap,n_theta_ap,n_theta))\n",
    "results_mapsq_map = np.zeros((n_los,n_theta_ap,n_theta_ap,n_theta_ap,n_theta))\n",
    "results_map_mapcu = np.zeros((n_los,n_theta_ap,n_theta_ap,n_theta_ap,n_theta_ap,n_theta))\n",
    "results_mapsq_mapsq = np.zeros((n_los,n_theta_ap,n_theta_ap,n_theta_ap,n_theta_ap,n_theta))\n",
    "results_mapcu_mapcu = np.zeros((n_los,n_theta_ap,n_theta_ap,n_theta_ap,n_theta_ap,n_theta_ap,n_theta_ap,n_theta))\n",
    "mean_thetas = np.zeros(n_theta)\n",
    "\n",
    "map_single = np.zeros((n_los,n_theta_ap))\n",
    "map_squared = np.zeros((n_los,n_theta_ap,n_theta_ap))\n",
    "map_cubed = np.zeros((n_los,n_theta_ap,n_theta_ap,n_theta_ap))\n",
    "map_four = np.zeros((n_los,n_theta_ap,n_theta_ap,n_theta_ap,n_theta_ap))\n",
    "map_six = np.zeros((n_los,n_theta_ap,n_theta_ap,n_theta_ap,n_theta_ap,n_theta_ap,n_theta_ap))\n",
    "\n",
    "for x,los in enumerate(tqdm(all_los,desc=\"Reading map powers\")):\n",
    "    try:\n",
    "        map_single[x] = np.load(fpath+\"map_single_los_{}.npy\".format(los))\n",
    "        map_squared[x] = np.load(fpath+\"map_squared_los_{}.npy\".format(los))\n",
    "        map_cubed[x] = np.load(fpath+\"map_cubed_los_{}.npy\".format(los))\n",
    "        map_four[x] = np.load(fpath+\"map_four_los_{}.npy\".format(los))\n",
    "        map_six[x] = np.load(fpath+\"map_six_los_{}.npy\".format(los))\n",
    "        gg = np.load(fpath+\"ggcorr_mapcu_{}_{}_{}_mapcu_{}_{}_{}_los_{}.npy\".format(all_theta_ap[-1],all_theta_ap[-1],all_theta_ap[-1],all_theta_ap[-1],all_theta_ap[-1],all_theta_ap[-1],los))\n",
    "\n",
    "        mask[x] = True #check which los are available, only read in that ones\n",
    "        \n",
    "    except Exception as e:\n",
    "        pass\n",
    "    \n",
    "map_single = map_single[mask]\n",
    "map_squared = map_squared[mask]\n",
    "map_cubed = map_cubed[mask]\n",
    "map_four = map_four[mask]\n",
    "map_six = map_six[mask]\n",
    "\n",
    "\n",
    "\n",
    "all_los = all_los[mask]\n",
    "n_los = len(all_los)\n",
    "\n",
    "results_map_map = np.zeros((n_los,n_theta_ap,n_theta_ap,n_theta))\n",
    "results_mapsq_map = np.zeros((n_los,n_theta_ap,n_theta_ap,n_theta_ap,n_theta))\n",
    "results_map_mapcu = np.zeros((n_los,n_theta_ap,n_theta_ap,n_theta_ap,n_theta_ap,n_theta))\n",
    "results_mapsq_mapsq = np.zeros((n_los,n_theta_ap,n_theta_ap,n_theta_ap,n_theta_ap,n_theta))\n",
    "results_mapcu_mapcu = np.zeros((n_los,n_theta_ap,n_theta_ap,n_theta_ap,n_theta_ap,n_theta_ap,n_theta_ap,n_theta))\n",
    "mean_thetas = np.zeros(n_theta)\n",
    "\n",
    "mask2 = np.ones(n_los,dtype=bool) #verify that everything is available\n",
    "\n",
    "for x,los in enumerate(tqdm(all_los,desc=\"Reading map map\")):\n",
    "    for i in range(n_theta_ap):\n",
    "        for j in range(i,n_theta_ap):\n",
    "            try:\n",
    "                gg = np.load(fpath+\"ggcorr_map_{}_map_{}_los_{}.npy\".format(all_theta_ap[i],all_theta_ap[j],los))\n",
    "            except Exception as e:\n",
    "                print(e)\n",
    "                mask2[x]=0\n",
    "                continue\n",
    "            results_map_map[x,i,j] = gg[1,:-1]\n",
    "            results_map_map[x,j,i] = gg[1,:-1]\n",
    "mean_thetas = gg[0,:-1]/180*np.pi\n",
    "\n",
    "   \n",
    "\n",
    "\n",
    "for x,los in enumerate(tqdm(all_los,desc=\"Reading mapsq map\")):\n",
    "    for i in range(n_theta_ap):\n",
    "        for j in range(i,n_theta_ap):\n",
    "            for k in range(n_theta_ap):\n",
    "                try:\n",
    "                    gg = np.load(fpath+\"ggcorr_mapsq_{}_{}_map_{}_los_{}.npy\".format(all_theta_ap[i],all_theta_ap[j],\n",
    "                                                                         all_theta_ap[k],los))\n",
    "                except Exception as e:\n",
    "                    print(e)\n",
    "                    mask2[x]=0\n",
    "                    continue\n",
    "                results_mapsq_map[x,i,j,k] = gg[1,:-1]\n",
    "                results_mapsq_map[x,j,i,k] = gg[1,:-1]\n",
    "    \n",
    "\n",
    "for x,los in enumerate(tqdm(all_los,desc=\"Reading map mapcu\")):\n",
    "    for i in range(n_theta_ap):\n",
    "        for j in range(i,n_theta_ap):\n",
    "            for k in range(j,n_theta_ap):\n",
    "                for ii in range(n_theta_ap):\n",
    "                    try:\n",
    "                        gg = np.load(fpath+\"ggcorr_map_{}_mapcu_{}_{}_{}_los_{}.npy\".format(all_theta_ap[ii],\n",
    "                                                                                   all_theta_ap[i],\n",
    "                                                                                   all_theta_ap[j],\n",
    "                                                                             all_theta_ap[k],los))\n",
    "                    except Exception as e:\n",
    "                        print(e)\n",
    "                        mask2[x]=0\n",
    "                        continue\n",
    "                    for idi,idj,idk in permutations([i,j,k]):\n",
    "                        results_map_mapcu[x,ii,idi,idj,idk] = gg[1,:-1]\n",
    "\n",
    "for x,los in enumerate(tqdm(all_los,desc=\"Reading mapsq mapsq\")):\n",
    "    for i in range(n_theta_ap):\n",
    "        for j in range(i,n_theta_ap):\n",
    "            for ii in range(n_theta_ap):\n",
    "                for jj in range(ii,n_theta_ap):\n",
    "                    try:\n",
    "                        shutil.move(fpath+\"ggcorr_mapsq_{}_{}_mapsq_{}_{}_los_{}.dat.npy\".format(all_theta_ap[i],\n",
    "                                                    all_theta_ap[j],\n",
    "                                                    all_theta_ap[ii],\n",
    "                                                    all_theta_ap[jj],\n",
    "                                                    los),\n",
    "                                   fpath+\"ggcorr_mapsq_{}_{}_mapsq_{}_{}_los_{}.npy\".format(all_theta_ap[i],\n",
    "                                                    all_theta_ap[j],\n",
    "                                                    all_theta_ap[ii],\n",
    "                                                    all_theta_ap[jj],\n",
    "                                                    los))\n",
    "                    except Exception as e:\n",
    "                        print(\"Could not move \",\"ggcorr_mapsq_{}_{}_mapsq_{}_{}_los_{}.dat.npy\".format(all_theta_ap[i],\n",
    "                                                    all_theta_ap[j],\n",
    "                                                    all_theta_ap[ii],\n",
    "                                                    all_theta_ap[jj],\n",
    "                                                    los))\n",
    "                    try:\n",
    "                        gg = np.load(fpath+\"ggcorr_mapsq_{}_{}_mapsq_{}_{}_los_{}.npy\".format(all_theta_ap[i],\n",
    "                                                    all_theta_ap[j],\n",
    "                                                    all_theta_ap[ii],\n",
    "                                                    all_theta_ap[jj],\n",
    "                                                    los))\n",
    "                    except Exception as e:\n",
    "                        print(e)\n",
    "                        mask2[x]=0\n",
    "                        continue\n",
    "                    for idi,idj in permutations([i,j]):\n",
    "                        for idii,idjj in permutations([ii,jj]):\n",
    "                            results_mapsq_mapsq[x,idi,idj,idii,idjj] = gg[1,:-1]\n",
    "\n",
    "\n",
    "for x,los in enumerate(tqdm(all_los,desc=\"Reading mapcu mapcu\")):\n",
    "    for i in range(n_theta_ap):\n",
    "        for j in range(i,n_theta_ap):\n",
    "            for k in range(j,n_theta_ap):\n",
    "                for ii in range(n_theta_ap):\n",
    "                    for jj in range(ii,n_theta_ap):\n",
    "                        for kk in range(jj,n_theta_ap):\n",
    "                            try:\n",
    "                                gg = np.load(fpath+\"ggcorr_mapcu_{}_{}_{}_mapcu_{}_{}_{}_los_{}.npy\".format(all_theta_ap[i],\n",
    "                                                            all_theta_ap[j],\n",
    "                                                            all_theta_ap[k],\n",
    "                                                            all_theta_ap[ii],\n",
    "                                                            all_theta_ap[jj],\n",
    "                                                            all_theta_ap[kk],\n",
    "                                                            los))\n",
    "                            except Exception as e:\n",
    "                                print(e)\n",
    "                                mask2[x]=0\n",
    "                                continue\n",
    "                            for idi,idj,idk in permutations([i,j,k]):\n",
    "                                for idii,idjj,idkk in permutations([ii,jj,kk]):\n",
    "                                    results_mapcu_mapcu[x,idi,idj,idk,idii,idjj,idkk] = gg[1,:-1]\n",
    "        \n",
    "\n"
   ]
  },
  {
   "cell_type": "code",
   "execution_count": null,
   "metadata": {
    "ExecuteTime": {
     "start_time": "2023-01-03T23:20:58.790Z"
    }
   },
   "outputs": [],
   "source": [
    "map_single_mean = np.mean(map_single,axis=0)\n",
    "map_squared_mean = np.mean(map_squared,axis=0)\n",
    "map_cubed_mean = np.mean(map_cubed,axis=0)\n",
    "map_four_mean = np.mean(map_four,axis=0)\n",
    "map_six_mean = np.mean(map_six,axis=0)\n",
    "\n",
    "if(np.sum(mask2)==len(mask2)):\n",
    "    print(\"Length matches. computing average\")\n",
    "    _results_map_map_mean = np.mean(results_map_map,axis=0)\n",
    "    _results_mapsq_map_mean = np.mean(results_mapsq_map,axis=0)\n",
    "    _results_map_mapcu_mean = np.mean(results_map_mapcu,axis=0)\n",
    "    _results_mapsq_mapsq_mean = np.mean(results_mapsq_mapsq,axis=0)\n",
    "    _results_mapcu_mapcu_mean = np.mean(results_mapcu_mapcu,axis=0)\n",
    "\n",
    "else:\n",
    "    print(\"WARNING: Length does not match: {}/{}. Excluding los with missing elements\".format(np.sum(mask2),len(mask2)))\n",
    "    _results_map_map_mean = np.mean(results_map_map[mask2],axis=0)\n",
    "    _results_mapsq_map_mean = np.mean(results_mapsq_map[mask2],axis=0)\n",
    "    _results_map_mapcu_mean = np.mean(results_map_mapcu[mask2],axis=0)\n",
    "    _results_mapsq_mapsq_mean = np.mean(results_mapsq_mapsq[mask2],axis=0)\n",
    "    _results_mapcu_mapcu_mean = np.mean(results_mapcu_mapcu[mask2],axis=0)\n"
   ]
  },
  {
   "cell_type": "code",
   "execution_count": null,
   "metadata": {
    "ExecuteTime": {
     "start_time": "2023-01-03T23:20:58.972Z"
    }
   },
   "outputs": [],
   "source": [
    "_mean_thetas = np.load(fpath+\"theta_bins.npy\")[:-1]\n",
    "\n",
    "thetas_mean = np.insert(_mean_thetas,0,0)/180*np.pi\n",
    "\n",
    "results_mapsq_map_mean = np.insert(_results_mapsq_map_mean,0,map_cubed_mean,axis=-1)\n",
    "results_map_mapcu_mean = np.insert(_results_map_mapcu_mean,0,map_four_mean,axis=-1)\n",
    "results_mapsq_mapsq_mean = np.insert(_results_mapsq_mapsq_mean,0,map_four_mean,axis=-1)\n",
    "results_map_map_mean = np.insert(_results_map_map_mean,0,map_squared_mean,axis=-1)\n",
    "results_mapcu_mapcu_mean = np.insert(_results_mapcu_mapcu_mean,0,map_six_mean,axis=-1)\n",
    "\n",
    "\n",
    "full_results_mapsq_map = np.insert(results_mapsq_map,0,map_cubed_mean,axis=-1)\n",
    "full_results_map_mapcu = np.insert(results_map_mapcu,0,map_four_mean,axis=-1)\n",
    "full_results_mapsq_mapsq = np.insert(results_mapsq_mapsq,0,map_four_mean,axis=-1)\n",
    "full_results_map_map = np.insert(results_map_map,0,map_squared_mean,axis=-1)\n",
    "full_results_mapcu_mapcu = np.insert(results_mapcu_mapcu,0,map_six_mean,axis=-1)"
   ]
  },
  {
   "cell_type": "markdown",
   "metadata": {},
   "source": [
    "## Read in the model covariance terms"
   ]
  },
  {
   "cell_type": "code",
   "execution_count": null,
   "metadata": {
    "ExecuteTime": {
     "start_time": "2023-01-03T23:20:59.338Z"
    }
   },
   "outputs": [],
   "source": [
    "model = {}\n",
    "\n",
    "if(used_sim==\"MS\"):\n",
    "    model[\"T2\"] = np.loadtxt(\"/vol/euclid6/euclid6_ssd/sven/threepoint_with_laila/Map3_Covariances/MS/cov_square_term2Numerical_sigma_0.00_n_1048456.68_thetaMax_1.87_gpu.dat\")\n",
    "    model[\"T6\"] = np.loadtxt(\"/vol/euclid6/euclid6_ssd/sven/threepoint_with_laila/Map3_Covariances/MS/cov_square_term6Numerical_sigma_0.00_n_1048456.68_thetaMax_1.87_gpu.dat\")\n",
    "    model[\"T1\"] = np.loadtxt(\"/vol/euclid6/euclid6_ssd/sven/threepoint_with_laila/Map3_Covariances/MS/cov_infinite_term1Numerical_sigma_0.00_n_1048456.68_thetaMax_1.87_gpu.dat\")\n",
    "    model[\"T5\"] = np.loadtxt(\"/vol/euclid6/euclid6_ssd/sven/threepoint_with_laila/Map3_Covariances/MS/cov_infinite_term5Numerical_sigma_0.00_n_1048456.68_thetaMax_1.87_gpu.dat\")\n",
    "    model[\"T4\"] = np.loadtxt(\"/vol/euclid6/euclid6_ssd/sven/threepoint_with_laila/Map3_Covariances/MS/cov_infinite_term4Numerical_sigma_0.00_n_1048456.68_thetaMax_1.87_gpu.dat\")\n",
    "    model[\"T7\"] = np.loadtxt(\"/vol/euclid6/euclid6_ssd/sven/threepoint_with_laila/Map3_Covariances/MS/cov_infinite_term7Numerical_sigma_0.00_n_1048456.68_thetaMax_1.87_gpu.dat\")\n",
    "\n",
    "elif(used_sim==\"SLICS\"):\n",
    "    model[\"T2\"] = np.loadtxt(\"/vol/euclid6/euclid6_ssd/sven/threepoint_with_laila/Map3_Covariances/SLICS_singleZ/cov_square_term2Numerical_sigma_0.00_n_107987.71_thetaMax_7.87_gpu.dat\")\n",
    "    model[\"T6\"] = np.loadtxt(\"/vol/euclid6/euclid6_ssd/sven/threepoint_with_laila/Map3_Covariances/SLICS_singleZ/cov_square_term6Numerical_sigma_0.00_n_107987.71_thetaMax_7.87_gpu.dat\")\n",
    "    model[\"T1\"] = np.loadtxt(\"/vol/euclid6/euclid6_ssd/sven/threepoint_with_laila/Map3_Covariances/SLICS_singleZ/cov_infinite_term1Numerical_sigma_0.00_n_107987.71_thetaMax_7.87_gpu.dat\")\n",
    "    model[\"T5\"] = np.loadtxt(\"/vol/euclid6/euclid6_ssd/sven/threepoint_with_laila/Map3_Covariances/SLICS_singleZ/cov_infinite_term5Numerical_sigma_0.00_n_107987.71_thetaMax_7.87_gpu.dat\")\n",
    "    model[\"T4\"] = np.loadtxt(\"/vol/euclid6/euclid6_ssd/sven/threepoint_with_laila/Map3_Covariances/SLICS_singleZ/cov_infinite_term4Numerical_sigma_0.00_n_107987.71_thetaMax_7.87_gpu.dat\")\n",
    "    model[\"T7\"] = np.loadtxt(\"/vol/euclid6/euclid6_ssd/sven/threepoint_with_laila/Map3_Covariances/SLICS_singleZ/cov_infinite_term7Numerical_sigma_0.00_n_107987.71_thetaMax_7.87_gpu.dat\")\n",
    "else:\n",
    "    raise ValueError(\"Invalid used_sim. Allowed: MS,SLICS\")\n",
    "\n",
    "map_cubed_flat = np.zeros((map_cubed.shape[0],20))\n",
    "counter = 0\n",
    "for i in range(4):\n",
    "    for j in range(i,4):\n",
    "        for k in range(j,4):\n",
    "            map_cubed_flat[:,counter] = map_cubed[:,i,j,k]\n",
    "            counter += 1\n",
    "\n",
    "direct_measured = {}         \n",
    "direct_measured[\"cov\"] = np.cov(map_cubed_flat,rowvar=False)\n",
    "direct_measured[\"data\"] = np.mean(map_cubed_flat,axis=0)\n"
   ]
  },
  {
   "cell_type": "markdown",
   "metadata": {},
   "source": [
    "## Calculate Ti terms"
   ]
  },
  {
   "cell_type": "code",
   "execution_count": null,
   "metadata": {
    "ExecuteTime": {
     "start_time": "2023-01-03T23:21:00.058Z"
    }
   },
   "outputs": [],
   "source": [
    "T1_sims = np.zeros((20,20))\n",
    "T2_sims = np.zeros((20,20))\n",
    "T4_sims = np.zeros((20,20))\n",
    "T5raw_sims = np.zeros((20,20))\n",
    "T6raw_sims = np.zeros((20,20))\n",
    "allT_sims = np.zeros((20,20))\n",
    "\n",
    "idx = -1\n",
    "for i in range(n_theta_ap):\n",
    "    for j in range(i,n_theta_ap):\n",
    "        for k in range(j,n_theta_ap):\n",
    "            idy = -1\n",
    "            idx += 1\n",
    "            for ii in range(n_theta_ap):\n",
    "                for jj in range(ii,n_theta_ap):\n",
    "                    for kk in range(jj,n_theta_ap):\n",
    "                        idy += 1\n",
    "                        T1_sims[idx,idy] = calculateT1(all_theta_ap[i],all_theta_ap[j],all_theta_ap[k],\n",
    "                                                      all_theta_ap[ii],all_theta_ap[jj],all_theta_ap[kk],L)\n",
    "                        T2_sims[idx,idy] = calculateT2(all_theta_ap[i],all_theta_ap[j],all_theta_ap[k],\n",
    "                              all_theta_ap[ii],all_theta_ap[jj],all_theta_ap[kk],L)\n",
    "                        T4_sims[idx,idy] = calculateT4(all_theta_ap[i],all_theta_ap[j],all_theta_ap[k],\n",
    "                              all_theta_ap[ii],all_theta_ap[jj],all_theta_ap[kk],L)\n",
    "                        T5raw_sims[idx,idy] = calculateT5raw(all_theta_ap[i],all_theta_ap[j],all_theta_ap[k],\n",
    "                              all_theta_ap[ii],all_theta_ap[jj],all_theta_ap[kk],L)\n",
    "                        T6raw_sims[idx,idy] = calculateT6raw(all_theta_ap[i],all_theta_ap[j],all_theta_ap[k],\n",
    "                              all_theta_ap[ii],all_theta_ap[jj],all_theta_ap[kk],L)\n",
    "                        allT_sims[idx,idy] = calculateT7(all_theta_ap[i],all_theta_ap[j],all_theta_ap[k],\n",
    "                              all_theta_ap[ii],all_theta_ap[jj],all_theta_ap[kk],L)\n",
    "                        progressBar(\"Calculating Ti\",idx*20+idy,400)\n",
    "\n",
    "                        \n",
    "\n",
    "T5_sims = T5raw_sims - 3*T1_sims - T2_sims\n",
    "T6_sims = T6raw_sims - 2*T2_sims\n",
    "\n",
    "measured_corrf = {}\n",
    "measured_corrf[\"T1\"] = T1_sims\n",
    "measured_corrf[\"T2\"] = T2_sims\n",
    "measured_corrf[\"T4\"] = T4_sims\n",
    "measured_corrf[\"T5\"] = T5_sims\n",
    "measured_corrf[\"T6\"] = T6_sims\n",
    "measured_corrf[\"T7\"] = allT_sims - T1_sims - T2_sims - np.outer(direct_measured[\"data\"],direct_measured[\"data\"]) - T4_sims - T5_sims - T6_sims"
   ]
  },
  {
   "cell_type": "markdown",
   "metadata": {},
   "source": [
    "## Plot covariances"
   ]
  },
  {
   "cell_type": "code",
   "execution_count": null,
   "metadata": {
    "ExecuteTime": {
     "start_time": "2023-01-03T23:21:00.879Z"
    }
   },
   "outputs": [],
   "source": [
    "fig,ax = plt.subplots(3,2,figsize=(15,10),sharex=True,sharey=\"row\")\n",
    "plt.subplots_adjust(wspace=0,hspace=0)\n",
    "for c,i in enumerate([1,2,4,5,6,7]):\n",
    "    ax2 = c%2\n",
    "    ax1 = c//2\n",
    "    if i in [1,4,5,7]:\n",
    "        inf = r\"^\\infty\"\n",
    "    else:\n",
    "        inf = \"\"\n",
    "    ax[ax1,ax2].plot(np.diag(model[\"T{}\".format(i)]),color=\"C{}\".format(c),label = r\"$T_{}{}$\".format(i,inf))\n",
    "    ax[ax1,ax2].plot(np.diag(measured_corrf[\"T{}\".format(i)]),color=\"C{}\".format(c),label=r\"$\\hat{T}\"+\"_{}$\".format(i),\n",
    "            linestyle=\"--\")\n",
    "    ax[ax1,ax2].set_yscale('log')\n",
    "    ax[ax1,ax2].legend(loc=\"lower left\")\n",
    "#     ax[ax1,ax2].set_xscale('log')\n",
    "\n",
    "#     ax[2,1].plot([],color=\"C{}\".format(c),label = r\"$T_{}$\".format(i))\n",
    "#     ax[2,1].plot([],color=\"C{}\".format(c),label=r\"$\\hat{T}\"+\"_{}$\".format(i),\n",
    "#             linestyle=\"--\")\n",
    "#     ax[2,1].plot((direct_measured[\"data\"])**2,color='red',linestyle=':')\n",
    "#     ax[2,1].plot(np.diag(allT_sims),color='purple',linestyle=':')\n",
    "\n",
    "\n",
    "# ax[2,1].legend(loc=\"lower right\",ncol=6,bbox_to_anchor=(1,-0.75))\n",
    "for i in range(3):\n",
    "    ax[i,0].set_ylabel(r\"$T_i(\\theta_1,\\theta_2,\\theta_3)$\")\n",
    "ax[2,0].set_xlabel(r\"$(\\theta_1,\\theta_2,\\theta_3)$\")\n",
    "ax[2,1].set_xlabel(r\"$(\\theta_1,\\theta_2,\\theta_3)$\")\n",
    "ax[2,0].set_xticks(np.arange(20))\n",
    "ax[2,0].set_xticklabels(get_theta_combinations([2,4,8,16]),rotation=90)\n",
    "ax[2,1].set_xticks(np.arange(20))\n",
    "ax[2,1].set_xticklabels(get_theta_combinations([2,4,8,16]),rotation=90)\n",
    "\n",
    "\n",
    "# plt.savefig(\"/users/sven/Sciebo/tex_files/thesis/phd_thesis/figures/ti_for_SLICS_singlez.png\",dpi=200,\n",
    "#            bbox_inches=\"tight\")\n",
    "plt.show()\n"
   ]
  },
  {
   "cell_type": "code",
   "execution_count": null,
   "metadata": {
    "ExecuteTime": {
     "start_time": "2023-01-03T23:21:01.240Z"
    }
   },
   "outputs": [],
   "source": [
    "fig,ax = plt.subplots(1,3,sharex=True,sharey=True,figsize=(10,4))\n",
    "covsample = direct_measured[\"cov\"]\n",
    "covtiest = allT_sims-np.outer(direct_measured[\"data\"],direct_measured[\"data\"])\n",
    "covti = model[\"T1\"]+model[\"T2\"]+model[\"T4\"]+model[\"T5\"]+model[\"T6\"]+model[\"T7\"]\n",
    "allmax = np.max([covsample,covtiest,covti])\n",
    "allmin = np.max([np.min([covsample,covtiest,covti]),10**-21])\n",
    "im=ax[0].imshow(covsample,norm=colors.LogNorm(vmin=allmin,vmax=allmax))\n",
    "im=ax[1].imshow(covtiest,norm=colors.LogNorm(vmin=allmin,vmax=allmax))\n",
    "im=ax[2].imshow(covti,norm=colors.LogNorm(vmin=allmin,vmax=allmax))\n",
    "c1 = r\"C_{\\mathrm{sample}}\"\n",
    "c2 = r\"\\big(\\sum_{i\\neq 3}\\hat{T}_i\\big)\"\n",
    "c3 = r\"\\big(\\sum_{i\\neq 3} T_i\\big)\"\n",
    "ax[0].set_title(r\"${}$\".format(c1))\n",
    "ax[1].set_title(r\"${}$\".format(c2))\n",
    "ax[2].set_title(r\"${}$\".format(c3))\n",
    "\n",
    "for i in range(3):\n",
    "    ax[i].set_yticks(np.arange(20))\n",
    "    ax[i].set_yticklabels(get_theta_combinations([2,4,8,16]),fontsize=9)\n",
    "\n",
    "    ax[i].set_xticks(np.arange(20))\n",
    "    ax[i].set_xticklabels(get_theta_combinations([2,4,8,16]),fontsize=9,rotation=90)\n",
    "\n",
    "plt.tight_layout()\n",
    "\n",
    "fig.subplots_adjust(right=0.85)\n",
    "cbar_ax = fig.add_axes([0.9, 0.18, 0.03, 0.63])\n",
    "fig.colorbar(im, cax=cbar_ax)\n",
    "\n",
    "plt.savefig(\"/users/sven/Sciebo/tex_files/thesis/phd_thesis/figures/cov_ti_tiest_sample_slics_singlez.png\",\n",
    "           dpi=200)\n",
    "plt.show()\n",
    "\n",
    "\n",
    "\n",
    "fig,ax = plt.subplots(1,3,sharex=True,sharey=True,figsize=(10,4))\n",
    "\n",
    "ratio1=(covsample-covti)/np.sqrt(covsample**2+covti**2)\n",
    "ratio2=(covtiest-covti)/np.sqrt(covtiest**2+covti**2)\n",
    "ratio3=(covsample-covtiest)/np.sqrt(covsample**2+covtiest**2)\n",
    "allmax = np.max(np.abs([ratio1,ratio2,ratio3]))\n",
    "\n",
    "im2 = ax[0].imshow(ratio1,cmap='seismic',vmin=-allmax,vmax=allmax)\n",
    "im2 = ax[1].imshow(ratio2,cmap='seismic',vmin=-allmax,vmax=allmax)\n",
    "im2 = ax[2].imshow(ratio3,cmap='seismic',vmin=-allmax,vmax=allmax)\n",
    "\n",
    "ax[0].set_title(standfracstr(c1,c3))\n",
    "ax[1].set_title(standfracstr(c2,c3))\n",
    "ax[2].set_title(standfracstr(c1,c2))\n",
    "\n",
    "for i in range(3):\n",
    "    ax[i].set_yticks(np.arange(20))\n",
    "    ax[i].set_yticklabels(get_theta_combinations([2,4,8,16]),fontsize=9)\n",
    "\n",
    "    ax[i].set_xticks(np.arange(20))\n",
    "    ax[i].set_xticklabels(get_theta_combinations([2,4,8,16]),fontsize=9,rotation=90)\n",
    "\n",
    "\n",
    "plt.tight_layout()\n",
    "\n",
    "fig.subplots_adjust(right=0.85)\n",
    "\n",
    "cbar_ax2 = fig.add_axes([0.9, 0.15, 0.03, 0.62])\n",
    "\n",
    "fig.colorbar(im2, cax=cbar_ax2)\n"
   ]
  },
  {
   "cell_type": "code",
   "execution_count": null,
   "metadata": {},
   "outputs": [],
   "source": []
  },
  {
   "cell_type": "code",
   "execution_count": null,
   "metadata": {},
   "outputs": [],
   "source": []
  },
  {
   "cell_type": "code",
   "execution_count": null,
   "metadata": {},
   "outputs": [],
   "source": []
  }
 ],
 "metadata": {
  "kernelspec": {
   "display_name": "Python 3",
   "language": "python",
   "name": "python3"
  },
  "language_info": {
   "codemirror_mode": {
    "name": "ipython",
    "version": 3
   },
   "file_extension": ".py",
   "mimetype": "text/x-python",
   "name": "python",
   "nbconvert_exporter": "python",
   "pygments_lexer": "ipython3",
   "version": "3.6.9"
  }
 },
 "nbformat": 4,
 "nbformat_minor": 2
}
